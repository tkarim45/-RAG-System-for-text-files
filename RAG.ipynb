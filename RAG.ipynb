{
 "cells": [
  {
   "cell_type": "markdown",
   "metadata": {},
   "source": [
    "# Installing Necessary Libraries"
   ]
  },
  {
   "cell_type": "code",
   "execution_count": 1,
   "metadata": {},
   "outputs": [
    {
     "name": "stdout",
     "output_type": "stream",
     "text": [
      "Requirement already satisfied: sentence_transformers in /Users/taimourabdulkarim/miniconda3/envs/mlp/lib/python3.9/site-packages (3.0.1)\n",
      "Requirement already satisfied: pypdf in /Users/taimourabdulkarim/miniconda3/envs/mlp/lib/python3.9/site-packages (4.2.0)\n",
      "Requirement already satisfied: faiss-cpu in /Users/taimourabdulkarim/miniconda3/envs/mlp/lib/python3.9/site-packages (1.8.0)\n",
      "Requirement already satisfied: transformers<5.0.0,>=4.34.0 in /Users/taimourabdulkarim/miniconda3/envs/mlp/lib/python3.9/site-packages (from sentence_transformers) (4.41.2)\n",
      "Requirement already satisfied: tqdm in /Users/taimourabdulkarim/miniconda3/envs/mlp/lib/python3.9/site-packages (from sentence_transformers) (4.66.2)\n",
      "Requirement already satisfied: torch>=1.11.0 in /Users/taimourabdulkarim/miniconda3/envs/mlp/lib/python3.9/site-packages (from sentence_transformers) (2.2.0)\n",
      "Requirement already satisfied: numpy in /Users/taimourabdulkarim/miniconda3/envs/mlp/lib/python3.9/site-packages (from sentence_transformers) (1.26.4)\n",
      "Requirement already satisfied: scikit-learn in /Users/taimourabdulkarim/miniconda3/envs/mlp/lib/python3.9/site-packages (from sentence_transformers) (1.4.0)\n",
      "Requirement already satisfied: scipy in /Users/taimourabdulkarim/miniconda3/envs/mlp/lib/python3.9/site-packages (from sentence_transformers) (1.12.0)\n",
      "Requirement already satisfied: huggingface-hub>=0.15.1 in /Users/taimourabdulkarim/miniconda3/envs/mlp/lib/python3.9/site-packages (from sentence_transformers) (0.23.0)\n",
      "Requirement already satisfied: Pillow in /Users/taimourabdulkarim/miniconda3/envs/mlp/lib/python3.9/site-packages (from sentence_transformers) (10.2.0)\n",
      "Requirement already satisfied: typing_extensions>=4.0 in /Users/taimourabdulkarim/miniconda3/envs/mlp/lib/python3.9/site-packages (from pypdf) (4.9.0)\n",
      "Requirement already satisfied: filelock in /Users/taimourabdulkarim/miniconda3/envs/mlp/lib/python3.9/site-packages (from huggingface-hub>=0.15.1->sentence_transformers) (3.13.1)\n",
      "Requirement already satisfied: fsspec>=2023.5.0 in /Users/taimourabdulkarim/miniconda3/envs/mlp/lib/python3.9/site-packages (from huggingface-hub>=0.15.1->sentence_transformers) (2024.2.0)\n",
      "Requirement already satisfied: packaging>=20.9 in /Users/taimourabdulkarim/miniconda3/envs/mlp/lib/python3.9/site-packages (from huggingface-hub>=0.15.1->sentence_transformers) (23.2)\n",
      "Requirement already satisfied: pyyaml>=5.1 in /Users/taimourabdulkarim/miniconda3/envs/mlp/lib/python3.9/site-packages (from huggingface-hub>=0.15.1->sentence_transformers) (6.0.1)\n",
      "Requirement already satisfied: requests in /Users/taimourabdulkarim/miniconda3/envs/mlp/lib/python3.9/site-packages (from huggingface-hub>=0.15.1->sentence_transformers) (2.31.0)\n",
      "Requirement already satisfied: sympy in /Users/taimourabdulkarim/miniconda3/envs/mlp/lib/python3.9/site-packages (from torch>=1.11.0->sentence_transformers) (1.12)\n",
      "Requirement already satisfied: networkx in /Users/taimourabdulkarim/miniconda3/envs/mlp/lib/python3.9/site-packages (from torch>=1.11.0->sentence_transformers) (3.2.1)\n",
      "Requirement already satisfied: jinja2 in /Users/taimourabdulkarim/miniconda3/envs/mlp/lib/python3.9/site-packages (from torch>=1.11.0->sentence_transformers) (3.1.3)\n",
      "Requirement already satisfied: regex!=2019.12.17 in /Users/taimourabdulkarim/miniconda3/envs/mlp/lib/python3.9/site-packages (from transformers<5.0.0,>=4.34.0->sentence_transformers) (2023.12.25)\n",
      "Requirement already satisfied: tokenizers<0.20,>=0.19 in /Users/taimourabdulkarim/miniconda3/envs/mlp/lib/python3.9/site-packages (from transformers<5.0.0,>=4.34.0->sentence_transformers) (0.19.1)\n",
      "Requirement already satisfied: safetensors>=0.4.1 in /Users/taimourabdulkarim/miniconda3/envs/mlp/lib/python3.9/site-packages (from transformers<5.0.0,>=4.34.0->sentence_transformers) (0.4.2)\n",
      "Requirement already satisfied: joblib>=1.2.0 in /Users/taimourabdulkarim/miniconda3/envs/mlp/lib/python3.9/site-packages (from scikit-learn->sentence_transformers) (1.3.2)\n",
      "Requirement already satisfied: threadpoolctl>=2.0.0 in /Users/taimourabdulkarim/miniconda3/envs/mlp/lib/python3.9/site-packages (from scikit-learn->sentence_transformers) (3.2.0)\n",
      "Requirement already satisfied: MarkupSafe>=2.0 in /Users/taimourabdulkarim/miniconda3/envs/mlp/lib/python3.9/site-packages (from jinja2->torch>=1.11.0->sentence_transformers) (2.1.3)\n",
      "Requirement already satisfied: charset-normalizer<4,>=2 in /Users/taimourabdulkarim/miniconda3/envs/mlp/lib/python3.9/site-packages (from requests->huggingface-hub>=0.15.1->sentence_transformers) (2.0.4)\n",
      "Requirement already satisfied: idna<4,>=2.5 in /Users/taimourabdulkarim/miniconda3/envs/mlp/lib/python3.9/site-packages (from requests->huggingface-hub>=0.15.1->sentence_transformers) (3.4)\n",
      "Requirement already satisfied: urllib3<3,>=1.21.1 in /Users/taimourabdulkarim/miniconda3/envs/mlp/lib/python3.9/site-packages (from requests->huggingface-hub>=0.15.1->sentence_transformers) (1.26.18)\n",
      "Requirement already satisfied: certifi>=2017.4.17 in /Users/taimourabdulkarim/miniconda3/envs/mlp/lib/python3.9/site-packages (from requests->huggingface-hub>=0.15.1->sentence_transformers) (2024.2.2)\n",
      "Requirement already satisfied: mpmath>=0.19 in /Users/taimourabdulkarim/miniconda3/envs/mlp/lib/python3.9/site-packages (from sympy->torch>=1.11.0->sentence_transformers) (1.3.0)\n",
      "Requirement already satisfied: langchain in /Users/taimourabdulkarim/miniconda3/envs/mlp/lib/python3.9/site-packages (0.2.5)\n",
      "Requirement already satisfied: langchain-openai in /Users/taimourabdulkarim/miniconda3/envs/mlp/lib/python3.9/site-packages (0.1.8)\n",
      "Requirement already satisfied: PyYAML>=5.3 in /Users/taimourabdulkarim/miniconda3/envs/mlp/lib/python3.9/site-packages (from langchain) (6.0.1)\n",
      "Requirement already satisfied: SQLAlchemy<3,>=1.4 in /Users/taimourabdulkarim/miniconda3/envs/mlp/lib/python3.9/site-packages (from langchain) (2.0.30)\n",
      "Requirement already satisfied: aiohttp<4.0.0,>=3.8.3 in /Users/taimourabdulkarim/miniconda3/envs/mlp/lib/python3.9/site-packages (from langchain) (3.9.3)\n",
      "Requirement already satisfied: async-timeout<5.0.0,>=4.0.0 in /Users/taimourabdulkarim/miniconda3/envs/mlp/lib/python3.9/site-packages (from langchain) (4.0.3)\n",
      "Requirement already satisfied: langchain-core<0.3.0,>=0.2.7 in /Users/taimourabdulkarim/miniconda3/envs/mlp/lib/python3.9/site-packages (from langchain) (0.2.9)\n",
      "Requirement already satisfied: langchain-text-splitters<0.3.0,>=0.2.0 in /Users/taimourabdulkarim/miniconda3/envs/mlp/lib/python3.9/site-packages (from langchain) (0.2.1)\n",
      "Requirement already satisfied: langsmith<0.2.0,>=0.1.17 in /Users/taimourabdulkarim/miniconda3/envs/mlp/lib/python3.9/site-packages (from langchain) (0.1.81)\n",
      "Requirement already satisfied: numpy<2,>=1 in /Users/taimourabdulkarim/miniconda3/envs/mlp/lib/python3.9/site-packages (from langchain) (1.26.4)\n",
      "Requirement already satisfied: pydantic<3,>=1 in /Users/taimourabdulkarim/miniconda3/envs/mlp/lib/python3.9/site-packages (from langchain) (2.6.3)\n",
      "Requirement already satisfied: requests<3,>=2 in /Users/taimourabdulkarim/miniconda3/envs/mlp/lib/python3.9/site-packages (from langchain) (2.31.0)\n",
      "Requirement already satisfied: tenacity<9.0.0,>=8.1.0 in /Users/taimourabdulkarim/miniconda3/envs/mlp/lib/python3.9/site-packages (from langchain) (8.2.3)\n",
      "Requirement already satisfied: openai<2.0.0,>=1.26.0 in /Users/taimourabdulkarim/miniconda3/envs/mlp/lib/python3.9/site-packages (from langchain-openai) (1.35.3)\n",
      "Requirement already satisfied: tiktoken<1,>=0.7 in /Users/taimourabdulkarim/miniconda3/envs/mlp/lib/python3.9/site-packages (from langchain-openai) (0.7.0)\n",
      "Requirement already satisfied: aiosignal>=1.1.2 in /Users/taimourabdulkarim/miniconda3/envs/mlp/lib/python3.9/site-packages (from aiohttp<4.0.0,>=3.8.3->langchain) (1.3.1)\n",
      "Requirement already satisfied: attrs>=17.3.0 in /Users/taimourabdulkarim/miniconda3/envs/mlp/lib/python3.9/site-packages (from aiohttp<4.0.0,>=3.8.3->langchain) (23.1.0)\n",
      "Requirement already satisfied: frozenlist>=1.1.1 in /Users/taimourabdulkarim/miniconda3/envs/mlp/lib/python3.9/site-packages (from aiohttp<4.0.0,>=3.8.3->langchain) (1.4.1)\n",
      "Requirement already satisfied: multidict<7.0,>=4.5 in /Users/taimourabdulkarim/miniconda3/envs/mlp/lib/python3.9/site-packages (from aiohttp<4.0.0,>=3.8.3->langchain) (6.0.5)\n",
      "Requirement already satisfied: yarl<2.0,>=1.0 in /Users/taimourabdulkarim/miniconda3/envs/mlp/lib/python3.9/site-packages (from aiohttp<4.0.0,>=3.8.3->langchain) (1.9.4)\n",
      "Requirement already satisfied: jsonpatch<2.0,>=1.33 in /Users/taimourabdulkarim/miniconda3/envs/mlp/lib/python3.9/site-packages (from langchain-core<0.3.0,>=0.2.7->langchain) (1.33)\n",
      "Requirement already satisfied: packaging<25,>=23.2 in /Users/taimourabdulkarim/miniconda3/envs/mlp/lib/python3.9/site-packages (from langchain-core<0.3.0,>=0.2.7->langchain) (23.2)\n",
      "Requirement already satisfied: orjson<4.0.0,>=3.9.14 in /Users/taimourabdulkarim/miniconda3/envs/mlp/lib/python3.9/site-packages (from langsmith<0.2.0,>=0.1.17->langchain) (3.10.5)\n",
      "Requirement already satisfied: anyio<5,>=3.5.0 in /Users/taimourabdulkarim/miniconda3/envs/mlp/lib/python3.9/site-packages (from openai<2.0.0,>=1.26.0->langchain-openai) (4.2.0)\n",
      "Requirement already satisfied: distro<2,>=1.7.0 in /Users/taimourabdulkarim/miniconda3/envs/mlp/lib/python3.9/site-packages (from openai<2.0.0,>=1.26.0->langchain-openai) (1.9.0)\n",
      "Requirement already satisfied: httpx<1,>=0.23.0 in /Users/taimourabdulkarim/miniconda3/envs/mlp/lib/python3.9/site-packages (from openai<2.0.0,>=1.26.0->langchain-openai) (0.27.0)\n",
      "Requirement already satisfied: sniffio in /Users/taimourabdulkarim/miniconda3/envs/mlp/lib/python3.9/site-packages (from openai<2.0.0,>=1.26.0->langchain-openai) (1.3.0)\n",
      "Requirement already satisfied: tqdm>4 in /Users/taimourabdulkarim/miniconda3/envs/mlp/lib/python3.9/site-packages (from openai<2.0.0,>=1.26.0->langchain-openai) (4.66.2)\n",
      "Requirement already satisfied: typing-extensions<5,>=4.7 in /Users/taimourabdulkarim/miniconda3/envs/mlp/lib/python3.9/site-packages (from openai<2.0.0,>=1.26.0->langchain-openai) (4.9.0)\n",
      "Requirement already satisfied: annotated-types>=0.4.0 in /Users/taimourabdulkarim/miniconda3/envs/mlp/lib/python3.9/site-packages (from pydantic<3,>=1->langchain) (0.6.0)\n",
      "Requirement already satisfied: pydantic-core==2.16.3 in /Users/taimourabdulkarim/miniconda3/envs/mlp/lib/python3.9/site-packages (from pydantic<3,>=1->langchain) (2.16.3)\n",
      "Requirement already satisfied: charset-normalizer<4,>=2 in /Users/taimourabdulkarim/miniconda3/envs/mlp/lib/python3.9/site-packages (from requests<3,>=2->langchain) (2.0.4)\n",
      "Requirement already satisfied: idna<4,>=2.5 in /Users/taimourabdulkarim/miniconda3/envs/mlp/lib/python3.9/site-packages (from requests<3,>=2->langchain) (3.4)\n",
      "Requirement already satisfied: urllib3<3,>=1.21.1 in /Users/taimourabdulkarim/miniconda3/envs/mlp/lib/python3.9/site-packages (from requests<3,>=2->langchain) (1.26.18)\n",
      "Requirement already satisfied: certifi>=2017.4.17 in /Users/taimourabdulkarim/miniconda3/envs/mlp/lib/python3.9/site-packages (from requests<3,>=2->langchain) (2024.2.2)\n",
      "Requirement already satisfied: regex>=2022.1.18 in /Users/taimourabdulkarim/miniconda3/envs/mlp/lib/python3.9/site-packages (from tiktoken<1,>=0.7->langchain-openai) (2023.12.25)\n",
      "Requirement already satisfied: exceptiongroup>=1.0.2 in /Users/taimourabdulkarim/miniconda3/envs/mlp/lib/python3.9/site-packages (from anyio<5,>=3.5.0->openai<2.0.0,>=1.26.0->langchain-openai) (1.2.0)\n",
      "Requirement already satisfied: httpcore==1.* in /Users/taimourabdulkarim/miniconda3/envs/mlp/lib/python3.9/site-packages (from httpx<1,>=0.23.0->openai<2.0.0,>=1.26.0->langchain-openai) (1.0.5)\n",
      "Requirement already satisfied: h11<0.15,>=0.13 in /Users/taimourabdulkarim/miniconda3/envs/mlp/lib/python3.9/site-packages (from httpcore==1.*->httpx<1,>=0.23.0->openai<2.0.0,>=1.26.0->langchain-openai) (0.14.0)\n",
      "Requirement already satisfied: jsonpointer>=1.9 in /Users/taimourabdulkarim/miniconda3/envs/mlp/lib/python3.9/site-packages (from jsonpatch<2.0,>=1.33->langchain-core<0.3.0,>=0.2.7->langchain) (3.0.0)\n",
      "Requirement already satisfied: langchain_community in /Users/taimourabdulkarim/miniconda3/envs/mlp/lib/python3.9/site-packages (0.2.5)\n",
      "Requirement already satisfied: PyYAML>=5.3 in /Users/taimourabdulkarim/miniconda3/envs/mlp/lib/python3.9/site-packages (from langchain_community) (6.0.1)\n",
      "Requirement already satisfied: SQLAlchemy<3,>=1.4 in /Users/taimourabdulkarim/miniconda3/envs/mlp/lib/python3.9/site-packages (from langchain_community) (2.0.30)\n",
      "Requirement already satisfied: aiohttp<4.0.0,>=3.8.3 in /Users/taimourabdulkarim/miniconda3/envs/mlp/lib/python3.9/site-packages (from langchain_community) (3.9.3)\n",
      "Requirement already satisfied: dataclasses-json<0.7,>=0.5.7 in /Users/taimourabdulkarim/miniconda3/envs/mlp/lib/python3.9/site-packages (from langchain_community) (0.6.7)\n",
      "Requirement already satisfied: langchain<0.3.0,>=0.2.5 in /Users/taimourabdulkarim/miniconda3/envs/mlp/lib/python3.9/site-packages (from langchain_community) (0.2.5)\n",
      "Requirement already satisfied: langchain-core<0.3.0,>=0.2.7 in /Users/taimourabdulkarim/miniconda3/envs/mlp/lib/python3.9/site-packages (from langchain_community) (0.2.9)\n",
      "Requirement already satisfied: langsmith<0.2.0,>=0.1.0 in /Users/taimourabdulkarim/miniconda3/envs/mlp/lib/python3.9/site-packages (from langchain_community) (0.1.81)\n",
      "Requirement already satisfied: numpy<2,>=1 in /Users/taimourabdulkarim/miniconda3/envs/mlp/lib/python3.9/site-packages (from langchain_community) (1.26.4)\n",
      "Requirement already satisfied: requests<3,>=2 in /Users/taimourabdulkarim/miniconda3/envs/mlp/lib/python3.9/site-packages (from langchain_community) (2.31.0)\n",
      "Requirement already satisfied: tenacity<9.0.0,>=8.1.0 in /Users/taimourabdulkarim/miniconda3/envs/mlp/lib/python3.9/site-packages (from langchain_community) (8.2.3)\n",
      "Requirement already satisfied: aiosignal>=1.1.2 in /Users/taimourabdulkarim/miniconda3/envs/mlp/lib/python3.9/site-packages (from aiohttp<4.0.0,>=3.8.3->langchain_community) (1.3.1)\n",
      "Requirement already satisfied: attrs>=17.3.0 in /Users/taimourabdulkarim/miniconda3/envs/mlp/lib/python3.9/site-packages (from aiohttp<4.0.0,>=3.8.3->langchain_community) (23.1.0)\n",
      "Requirement already satisfied: frozenlist>=1.1.1 in /Users/taimourabdulkarim/miniconda3/envs/mlp/lib/python3.9/site-packages (from aiohttp<4.0.0,>=3.8.3->langchain_community) (1.4.1)\n",
      "Requirement already satisfied: multidict<7.0,>=4.5 in /Users/taimourabdulkarim/miniconda3/envs/mlp/lib/python3.9/site-packages (from aiohttp<4.0.0,>=3.8.3->langchain_community) (6.0.5)\n",
      "Requirement already satisfied: yarl<2.0,>=1.0 in /Users/taimourabdulkarim/miniconda3/envs/mlp/lib/python3.9/site-packages (from aiohttp<4.0.0,>=3.8.3->langchain_community) (1.9.4)\n",
      "Requirement already satisfied: async-timeout<5.0,>=4.0 in /Users/taimourabdulkarim/miniconda3/envs/mlp/lib/python3.9/site-packages (from aiohttp<4.0.0,>=3.8.3->langchain_community) (4.0.3)\n",
      "Requirement already satisfied: marshmallow<4.0.0,>=3.18.0 in /Users/taimourabdulkarim/miniconda3/envs/mlp/lib/python3.9/site-packages (from dataclasses-json<0.7,>=0.5.7->langchain_community) (3.21.3)\n",
      "Requirement already satisfied: typing-inspect<1,>=0.4.0 in /Users/taimourabdulkarim/miniconda3/envs/mlp/lib/python3.9/site-packages (from dataclasses-json<0.7,>=0.5.7->langchain_community) (0.9.0)\n",
      "Requirement already satisfied: langchain-text-splitters<0.3.0,>=0.2.0 in /Users/taimourabdulkarim/miniconda3/envs/mlp/lib/python3.9/site-packages (from langchain<0.3.0,>=0.2.5->langchain_community) (0.2.1)\n",
      "Requirement already satisfied: pydantic<3,>=1 in /Users/taimourabdulkarim/miniconda3/envs/mlp/lib/python3.9/site-packages (from langchain<0.3.0,>=0.2.5->langchain_community) (2.6.3)\n",
      "Requirement already satisfied: jsonpatch<2.0,>=1.33 in /Users/taimourabdulkarim/miniconda3/envs/mlp/lib/python3.9/site-packages (from langchain-core<0.3.0,>=0.2.7->langchain_community) (1.33)\n",
      "Requirement already satisfied: packaging<25,>=23.2 in /Users/taimourabdulkarim/miniconda3/envs/mlp/lib/python3.9/site-packages (from langchain-core<0.3.0,>=0.2.7->langchain_community) (23.2)\n",
      "Requirement already satisfied: orjson<4.0.0,>=3.9.14 in /Users/taimourabdulkarim/miniconda3/envs/mlp/lib/python3.9/site-packages (from langsmith<0.2.0,>=0.1.0->langchain_community) (3.10.5)\n",
      "Requirement already satisfied: charset-normalizer<4,>=2 in /Users/taimourabdulkarim/miniconda3/envs/mlp/lib/python3.9/site-packages (from requests<3,>=2->langchain_community) (2.0.4)\n",
      "Requirement already satisfied: idna<4,>=2.5 in /Users/taimourabdulkarim/miniconda3/envs/mlp/lib/python3.9/site-packages (from requests<3,>=2->langchain_community) (3.4)\n",
      "Requirement already satisfied: urllib3<3,>=1.21.1 in /Users/taimourabdulkarim/miniconda3/envs/mlp/lib/python3.9/site-packages (from requests<3,>=2->langchain_community) (1.26.18)\n",
      "Requirement already satisfied: certifi>=2017.4.17 in /Users/taimourabdulkarim/miniconda3/envs/mlp/lib/python3.9/site-packages (from requests<3,>=2->langchain_community) (2024.2.2)\n",
      "Requirement already satisfied: typing-extensions>=4.6.0 in /Users/taimourabdulkarim/miniconda3/envs/mlp/lib/python3.9/site-packages (from SQLAlchemy<3,>=1.4->langchain_community) (4.9.0)\n",
      "Requirement already satisfied: jsonpointer>=1.9 in /Users/taimourabdulkarim/miniconda3/envs/mlp/lib/python3.9/site-packages (from jsonpatch<2.0,>=1.33->langchain-core<0.3.0,>=0.2.7->langchain_community) (3.0.0)\n",
      "Requirement already satisfied: annotated-types>=0.4.0 in /Users/taimourabdulkarim/miniconda3/envs/mlp/lib/python3.9/site-packages (from pydantic<3,>=1->langchain<0.3.0,>=0.2.5->langchain_community) (0.6.0)\n",
      "Requirement already satisfied: pydantic-core==2.16.3 in /Users/taimourabdulkarim/miniconda3/envs/mlp/lib/python3.9/site-packages (from pydantic<3,>=1->langchain<0.3.0,>=0.2.5->langchain_community) (2.16.3)\n",
      "Requirement already satisfied: mypy-extensions>=0.3.0 in /Users/taimourabdulkarim/miniconda3/envs/mlp/lib/python3.9/site-packages (from typing-inspect<1,>=0.4.0->dataclasses-json<0.7,>=0.5.7->langchain_community) (1.0.0)\n",
      "Requirement already satisfied: langchain-huggingface in /Users/taimourabdulkarim/miniconda3/envs/mlp/lib/python3.9/site-packages (0.0.3)\n",
      "Requirement already satisfied: huggingface-hub>=0.23.0 in /Users/taimourabdulkarim/miniconda3/envs/mlp/lib/python3.9/site-packages (from langchain-huggingface) (0.23.0)\n",
      "Requirement already satisfied: langchain-core<0.3,>=0.1.52 in /Users/taimourabdulkarim/miniconda3/envs/mlp/lib/python3.9/site-packages (from langchain-huggingface) (0.2.9)\n",
      "Requirement already satisfied: sentence-transformers>=2.6.0 in /Users/taimourabdulkarim/miniconda3/envs/mlp/lib/python3.9/site-packages (from langchain-huggingface) (3.0.1)\n",
      "Requirement already satisfied: tokenizers>=0.19.1 in /Users/taimourabdulkarim/miniconda3/envs/mlp/lib/python3.9/site-packages (from langchain-huggingface) (0.19.1)\n",
      "Requirement already satisfied: transformers>=4.39.0 in /Users/taimourabdulkarim/miniconda3/envs/mlp/lib/python3.9/site-packages (from langchain-huggingface) (4.41.2)\n",
      "Requirement already satisfied: filelock in /Users/taimourabdulkarim/miniconda3/envs/mlp/lib/python3.9/site-packages (from huggingface-hub>=0.23.0->langchain-huggingface) (3.13.1)\n",
      "Requirement already satisfied: fsspec>=2023.5.0 in /Users/taimourabdulkarim/miniconda3/envs/mlp/lib/python3.9/site-packages (from huggingface-hub>=0.23.0->langchain-huggingface) (2024.2.0)\n",
      "Requirement already satisfied: packaging>=20.9 in /Users/taimourabdulkarim/miniconda3/envs/mlp/lib/python3.9/site-packages (from huggingface-hub>=0.23.0->langchain-huggingface) (23.2)\n",
      "Requirement already satisfied: pyyaml>=5.1 in /Users/taimourabdulkarim/miniconda3/envs/mlp/lib/python3.9/site-packages (from huggingface-hub>=0.23.0->langchain-huggingface) (6.0.1)\n",
      "Requirement already satisfied: requests in /Users/taimourabdulkarim/miniconda3/envs/mlp/lib/python3.9/site-packages (from huggingface-hub>=0.23.0->langchain-huggingface) (2.31.0)\n",
      "Requirement already satisfied: tqdm>=4.42.1 in /Users/taimourabdulkarim/miniconda3/envs/mlp/lib/python3.9/site-packages (from huggingface-hub>=0.23.0->langchain-huggingface) (4.66.2)\n",
      "Requirement already satisfied: typing-extensions>=3.7.4.3 in /Users/taimourabdulkarim/miniconda3/envs/mlp/lib/python3.9/site-packages (from huggingface-hub>=0.23.0->langchain-huggingface) (4.9.0)\n",
      "Requirement already satisfied: jsonpatch<2.0,>=1.33 in /Users/taimourabdulkarim/miniconda3/envs/mlp/lib/python3.9/site-packages (from langchain-core<0.3,>=0.1.52->langchain-huggingface) (1.33)\n",
      "Requirement already satisfied: langsmith<0.2.0,>=0.1.75 in /Users/taimourabdulkarim/miniconda3/envs/mlp/lib/python3.9/site-packages (from langchain-core<0.3,>=0.1.52->langchain-huggingface) (0.1.81)\n",
      "Requirement already satisfied: pydantic<3,>=1 in /Users/taimourabdulkarim/miniconda3/envs/mlp/lib/python3.9/site-packages (from langchain-core<0.3,>=0.1.52->langchain-huggingface) (2.6.3)\n",
      "Requirement already satisfied: tenacity!=8.4.0,<9.0.0,>=8.1.0 in /Users/taimourabdulkarim/miniconda3/envs/mlp/lib/python3.9/site-packages (from langchain-core<0.3,>=0.1.52->langchain-huggingface) (8.2.3)\n",
      "Requirement already satisfied: torch>=1.11.0 in /Users/taimourabdulkarim/miniconda3/envs/mlp/lib/python3.9/site-packages (from sentence-transformers>=2.6.0->langchain-huggingface) (2.2.0)\n",
      "Requirement already satisfied: numpy in /Users/taimourabdulkarim/miniconda3/envs/mlp/lib/python3.9/site-packages (from sentence-transformers>=2.6.0->langchain-huggingface) (1.26.4)\n",
      "Requirement already satisfied: scikit-learn in /Users/taimourabdulkarim/miniconda3/envs/mlp/lib/python3.9/site-packages (from sentence-transformers>=2.6.0->langchain-huggingface) (1.4.0)\n",
      "Requirement already satisfied: scipy in /Users/taimourabdulkarim/miniconda3/envs/mlp/lib/python3.9/site-packages (from sentence-transformers>=2.6.0->langchain-huggingface) (1.12.0)\n",
      "Requirement already satisfied: Pillow in /Users/taimourabdulkarim/miniconda3/envs/mlp/lib/python3.9/site-packages (from sentence-transformers>=2.6.0->langchain-huggingface) (10.2.0)\n",
      "Requirement already satisfied: regex!=2019.12.17 in /Users/taimourabdulkarim/miniconda3/envs/mlp/lib/python3.9/site-packages (from transformers>=4.39.0->langchain-huggingface) (2023.12.25)\n",
      "Requirement already satisfied: safetensors>=0.4.1 in /Users/taimourabdulkarim/miniconda3/envs/mlp/lib/python3.9/site-packages (from transformers>=4.39.0->langchain-huggingface) (0.4.2)\n",
      "Requirement already satisfied: jsonpointer>=1.9 in /Users/taimourabdulkarim/miniconda3/envs/mlp/lib/python3.9/site-packages (from jsonpatch<2.0,>=1.33->langchain-core<0.3,>=0.1.52->langchain-huggingface) (3.0.0)\n",
      "Requirement already satisfied: orjson<4.0.0,>=3.9.14 in /Users/taimourabdulkarim/miniconda3/envs/mlp/lib/python3.9/site-packages (from langsmith<0.2.0,>=0.1.75->langchain-core<0.3,>=0.1.52->langchain-huggingface) (3.10.5)\n",
      "Requirement already satisfied: annotated-types>=0.4.0 in /Users/taimourabdulkarim/miniconda3/envs/mlp/lib/python3.9/site-packages (from pydantic<3,>=1->langchain-core<0.3,>=0.1.52->langchain-huggingface) (0.6.0)\n",
      "Requirement already satisfied: pydantic-core==2.16.3 in /Users/taimourabdulkarim/miniconda3/envs/mlp/lib/python3.9/site-packages (from pydantic<3,>=1->langchain-core<0.3,>=0.1.52->langchain-huggingface) (2.16.3)\n",
      "Requirement already satisfied: charset-normalizer<4,>=2 in /Users/taimourabdulkarim/miniconda3/envs/mlp/lib/python3.9/site-packages (from requests->huggingface-hub>=0.23.0->langchain-huggingface) (2.0.4)\n",
      "Requirement already satisfied: idna<4,>=2.5 in /Users/taimourabdulkarim/miniconda3/envs/mlp/lib/python3.9/site-packages (from requests->huggingface-hub>=0.23.0->langchain-huggingface) (3.4)\n",
      "Requirement already satisfied: urllib3<3,>=1.21.1 in /Users/taimourabdulkarim/miniconda3/envs/mlp/lib/python3.9/site-packages (from requests->huggingface-hub>=0.23.0->langchain-huggingface) (1.26.18)\n",
      "Requirement already satisfied: certifi>=2017.4.17 in /Users/taimourabdulkarim/miniconda3/envs/mlp/lib/python3.9/site-packages (from requests->huggingface-hub>=0.23.0->langchain-huggingface) (2024.2.2)\n",
      "Requirement already satisfied: sympy in /Users/taimourabdulkarim/miniconda3/envs/mlp/lib/python3.9/site-packages (from torch>=1.11.0->sentence-transformers>=2.6.0->langchain-huggingface) (1.12)\n",
      "Requirement already satisfied: networkx in /Users/taimourabdulkarim/miniconda3/envs/mlp/lib/python3.9/site-packages (from torch>=1.11.0->sentence-transformers>=2.6.0->langchain-huggingface) (3.2.1)\n",
      "Requirement already satisfied: jinja2 in /Users/taimourabdulkarim/miniconda3/envs/mlp/lib/python3.9/site-packages (from torch>=1.11.0->sentence-transformers>=2.6.0->langchain-huggingface) (3.1.3)\n",
      "Requirement already satisfied: joblib>=1.2.0 in /Users/taimourabdulkarim/miniconda3/envs/mlp/lib/python3.9/site-packages (from scikit-learn->sentence-transformers>=2.6.0->langchain-huggingface) (1.3.2)\n",
      "Requirement already satisfied: threadpoolctl>=2.0.0 in /Users/taimourabdulkarim/miniconda3/envs/mlp/lib/python3.9/site-packages (from scikit-learn->sentence-transformers>=2.6.0->langchain-huggingface) (3.2.0)\n",
      "Requirement already satisfied: MarkupSafe>=2.0 in /Users/taimourabdulkarim/miniconda3/envs/mlp/lib/python3.9/site-packages (from jinja2->torch>=1.11.0->sentence-transformers>=2.6.0->langchain-huggingface) (2.1.3)\n",
      "Requirement already satisfied: mpmath>=0.19 in /Users/taimourabdulkarim/miniconda3/envs/mlp/lib/python3.9/site-packages (from sympy->torch>=1.11.0->sentence-transformers>=2.6.0->langchain-huggingface) (1.3.0)\n"
     ]
    }
   ],
   "source": [
    "! pip install sentence_transformers pypdf faiss-cpu\n",
    "! pip install langchain langchain-openai\n",
    "! pip install langchain_community\n",
    "! pip install -U langchain-huggingface"
   ]
  },
  {
   "cell_type": "markdown",
   "metadata": {},
   "source": [
    "# Importing necessary libraries"
   ]
  },
  {
   "cell_type": "code",
   "execution_count": 2,
   "metadata": {},
   "outputs": [],
   "source": [
    "import os\n",
    "from langchain_community.document_loaders import PyPDFLoader\n",
    "from langchain.text_splitter import RecursiveCharacterTextSplitter\n",
    "from langchain_huggingface import HuggingFaceEmbeddings\n",
    "from langchain.vectorstores import FAISS\n",
    "from langchain.chat_models import ChatOpenAI\n",
    "from langchain.chains.combine_documents import create_stuff_documents_chain\n",
    "from langchain_core.prompts import ChatPromptTemplate\n",
    "from langchain.chains import create_retrieval_chain\n",
    "import dotenv"
   ]
  },
  {
   "cell_type": "markdown",
   "metadata": {},
   "source": [
    "# Open AI Environment"
   ]
  },
  {
   "cell_type": "code",
   "execution_count": 3,
   "metadata": {},
   "outputs": [
    {
     "data": {
      "text/plain": [
       "True"
      ]
     },
     "execution_count": 3,
     "metadata": {},
     "output_type": "execute_result"
    }
   ],
   "source": [
    "dotenv.load_dotenv()"
   ]
  },
  {
   "cell_type": "code",
   "execution_count": 4,
   "metadata": {},
   "outputs": [
    {
     "name": "stderr",
     "output_type": "stream",
     "text": [
      "/Users/taimourabdulkarim/miniconda3/envs/mlp/lib/python3.9/site-packages/langchain_core/_api/deprecation.py:139: LangChainDeprecationWarning: The class `ChatOpenAI` was deprecated in LangChain 0.0.10 and will be removed in 0.3.0. An updated version of the class exists in the langchain-openai package and should be used instead. To use it run `pip install -U langchain-openai` and import as `from langchain_openai import ChatOpenAI`.\n",
      "  warn_deprecated(\n"
     ]
    }
   ],
   "source": [
    "os.environ[\"OPENAI_API_KEY\"] = os.getenv(\"OPENAI_API_KEY\")\n",
    "llm = ChatOpenAI(model_name=\"gpt-3.5-turbo\")"
   ]
  },
  {
   "cell_type": "markdown",
   "metadata": {},
   "source": [
    "# Importing Dataset"
   ]
  },
  {
   "cell_type": "code",
   "execution_count": 5,
   "metadata": {},
   "outputs": [
    {
     "data": {
      "text/plain": [
       "[Document(page_content=\"Title:  MeshAnything: Artist -Created Mesh Generation with Autoregressive Transformers  \\nAuthors:  buaacyw/meshanything  \\nDate:  14 Jun 2024  \\nDescription:  Recently, 3D assets created via reconstruction and generation have matched the \\nquality of manually crafted assets, highlighting their potential for replacement.  \\nStats:  417, 5.09 stars / hour  \\nCategories:  Decoder  \\nLinks:  Paper, Code  \\n \\nTitle:  Accessing GPT -4 level Mathematical Olympiad Solutions via Monte Carlo Tree Self -\\nrefine with LLaMa -3 8B  \\nAuthors:  trotsky1997/mathblackbox  \\nDate:  11 Jun 2024  \\nDescription:  This paper introduces the MCT Self -Refine algorithm, an innovative integration of \\nLarge Language Models (LLMs) with Monte Carlo Tree Search (MCTS), designed to enhance \\nperformance in complex mathematical reasoning tasks.  \\nStats:  279, 2.35 stars / hour  \\nCategories:  Decision Making, GSM8K +2  \\nLinks:  Paper, Code  \\n \\nTitle:  TextGrad: Automatic 'Differentiation' via Text  \\nAuthors:  zou-group/textgrad  \\nDate:  11 Jun 2024  \\nDescription:  Without modifying the framework, TextGrad improves the zero -shot accuracy of \\nGPT -4o in Google -Proof Question Answering, yields significant relative performance gain in \\noptimizing LeetCode -Hard coding problem solutions, improves prompts for reasoning, desi gns \\nnew druglike small molecules with desirable in silico binding, and designs radiation oncology \\ntreatment plans with high specificity.  \\nStats:  485, 2.04 stars / hour  \\nCategories:  Question Answering, Specificity  \\nLinks:  Paper, Code  \\n \\nTitle:  Scalable MatMul -free Language Modeling  \\nAuthors:  ridgerchu/matmulfreellm  \\nDate:  4 Jun 2024  \\nDescription:  Our experiments show that our proposed MatMul -free models achieve performance \\non-par with state -of-the-art Transformers that require far more memory during inference at a \\nscale up to at least 2.7B parameters.  \\nStats:  2,140, 1.98 stars / hour  \", metadata={'source': 'Dataset/RAG Input Doc.pdf', 'page': 0}),\n",
       " Document(page_content='Categories:  Language Modelling  \\nLinks:  Paper, Code  \\n \\nTitle:  VideoLLaMA 2: Advancing Spatial -Temporal Modeling and Audio Understanding in \\nVideo -LLMs  \\nAuthors:  damo -nlp-sg/videollama2  \\nDate:  11 Jun 2024  \\nDescription:  In this paper, we present the VideoLLaMA 2, a set of Video Large Language \\nModels (Video -LLMs) designed to enhance spatial -temporal modeling and audio understanding \\nin video and audio -oriented tasks.  \\nStats:  318, 1.50 stars / hour  \\nCategories:  Multiple -choice, Question Answering +3  \\nLinks:  Paper, Code  \\n ', metadata={'source': 'Dataset/RAG Input Doc.pdf', 'page': 1})]"
      ]
     },
     "execution_count": 5,
     "metadata": {},
     "output_type": "execute_result"
    }
   ],
   "source": [
    "loader = PyPDFLoader(\"Dataset/RAG Input Doc.pdf\")\n",
    "documents = loader.load()\n",
    "documents"
   ]
  },
  {
   "cell_type": "code",
   "execution_count": 6,
   "metadata": {},
   "outputs": [
    {
     "data": {
      "text/plain": [
       "[Document(page_content=\"Title:  MeshAnything: Artist -Created Mesh Generation with Autoregressive Transformers  \\nAuthors:  buaacyw/meshanything  \\nDate:  14 Jun 2024  \\nDescription:  Recently, 3D assets created via reconstruction and generation have matched the \\nquality of manually crafted assets, highlighting their potential for replacement.  \\nStats:  417, 5.09 stars / hour  \\nCategories:  Decoder  \\nLinks:  Paper, Code  \\n \\nTitle:  Accessing GPT -4 level Mathematical Olympiad Solutions via Monte Carlo Tree Self -\\nrefine with LLaMa -3 8B  \\nAuthors:  trotsky1997/mathblackbox  \\nDate:  11 Jun 2024  \\nDescription:  This paper introduces the MCT Self -Refine algorithm, an innovative integration of \\nLarge Language Models (LLMs) with Monte Carlo Tree Search (MCTS), designed to enhance \\nperformance in complex mathematical reasoning tasks.  \\nStats:  279, 2.35 stars / hour  \\nCategories:  Decision Making, GSM8K +2  \\nLinks:  Paper, Code  \\n \\nTitle:  TextGrad: Automatic 'Differentiation' via Text  \\nAuthors:  zou-group/textgrad  \\nDate:  11 Jun 2024  \\nDescription:  Without modifying the framework, TextGrad improves the zero -shot accuracy of \\nGPT -4o in Google -Proof Question Answering, yields significant relative performance gain in \\noptimizing LeetCode -Hard coding problem solutions, improves prompts for reasoning, desi gns \\nnew druglike small molecules with desirable in silico binding, and designs radiation oncology \\ntreatment plans with high specificity.  \\nStats:  485, 2.04 stars / hour  \\nCategories:  Question Answering, Specificity  \\nLinks:  Paper, Code  \\n \\nTitle:  Scalable MatMul -free Language Modeling  \\nAuthors:  ridgerchu/matmulfreellm  \\nDate:  4 Jun 2024  \\nDescription:  Our experiments show that our proposed MatMul -free models achieve performance \\non-par with state -of-the-art Transformers that require far more memory during inference at a \\nscale up to at least 2.7B parameters.  \\nStats:  2,140, 1.98 stars / hour\", metadata={'source': 'Dataset/RAG Input Doc.pdf', 'page': 0}),\n",
       " Document(page_content='Categories:  Language Modelling  \\nLinks:  Paper, Code  \\n \\nTitle:  VideoLLaMA 2: Advancing Spatial -Temporal Modeling and Audio Understanding in \\nVideo -LLMs  \\nAuthors:  damo -nlp-sg/videollama2  \\nDate:  11 Jun 2024  \\nDescription:  In this paper, we present the VideoLLaMA 2, a set of Video Large Language \\nModels (Video -LLMs) designed to enhance spatial -temporal modeling and audio understanding \\nin video and audio -oriented tasks.  \\nStats:  318, 1.50 stars / hour  \\nCategories:  Multiple -choice, Question Answering +3  \\nLinks:  Paper, Code', metadata={'source': 'Dataset/RAG Input Doc.pdf', 'page': 1})]"
      ]
     },
     "execution_count": 6,
     "metadata": {},
     "output_type": "execute_result"
    }
   ],
   "source": [
    "# Split text\n",
    "text = RecursiveCharacterTextSplitter().split_documents(documents)\n",
    "text"
   ]
  },
  {
   "cell_type": "code",
   "execution_count": 7,
   "metadata": {},
   "outputs": [
    {
     "name": "stderr",
     "output_type": "stream",
     "text": [
      "/Users/taimourabdulkarim/miniconda3/envs/mlp/lib/python3.9/site-packages/sentence_transformers/cross_encoder/CrossEncoder.py:11: TqdmWarning: IProgress not found. Please update jupyter and ipywidgets. See https://ipywidgets.readthedocs.io/en/stable/user_install.html\n",
      "  from tqdm.autonotebook import tqdm, trange\n",
      "/Users/taimourabdulkarim/miniconda3/envs/mlp/lib/python3.9/site-packages/huggingface_hub/file_download.py:1132: FutureWarning: `resume_download` is deprecated and will be removed in version 1.0.0. Downloads always resume when possible. If you want to force a new download, use `force_download=True`.\n",
      "  warnings.warn(\n"
     ]
    }
   ],
   "source": [
    "embeddings = HuggingFaceEmbeddings(\n",
    "    model_name=\"BAAI/bge-small-en-v1.5\", encode_kwargs={\"normalize_embeddings\": True}\n",
    ")"
   ]
  },
  {
   "cell_type": "code",
   "execution_count": 8,
   "metadata": {},
   "outputs": [],
   "source": [
    "# Create a vectorstore\n",
    "vectorstore = FAISS.from_documents(text, embeddings)\n",
    "\n",
    "# Save the documents and embeddings\n",
    "vectorstore.save_local(\"vectorstore.db\")\n",
    "\n",
    "# create retriever\n",
    "retriever = vectorstore.as_retriever()"
   ]
  },
  {
   "cell_type": "code",
   "execution_count": 9,
   "metadata": {},
   "outputs": [],
   "source": [
    "# create document chain\n",
    "template = \"\"\"\"\n",
    "You are an assistant for question-answering tasks.\n",
    "Use the provided context only to answer the following question:\n",
    "\n",
    "<context>\n",
    "{context}\n",
    "</context>\n",
    "\n",
    "Question: {input}\n",
    "\"\"\"\n",
    "prompt = ChatPromptTemplate.from_template(template)\n",
    "doc_chain = create_stuff_documents_chain(llm, prompt)"
   ]
  },
  {
   "cell_type": "code",
   "execution_count": 10,
   "metadata": {},
   "outputs": [],
   "source": [
    "chain = create_retrieval_chain(retriever, doc_chain)"
   ]
  },
  {
   "cell_type": "code",
   "execution_count": 11,
   "metadata": {},
   "outputs": [
    {
     "name": "stderr",
     "output_type": "stream",
     "text": [
      "huggingface/tokenizers: The current process just got forked, after parallelism has already been used. Disabling parallelism to avoid deadlocks...\n",
      "To disable this warning, you can either:\n",
      "\t- Avoid using `tokenizers` before the fork if possible\n",
      "\t- Explicitly set the environment variable TOKENIZERS_PARALLELISM=(true | false)\n"
     ]
    },
    {
     "name": "stdout",
     "output_type": "stream",
     "text": [
      "Question: What is the focus of the 'MeshAnything' project?\n",
      "Answer: The focus of the 'MeshAnything' project is on artist-created mesh generation with autoregressive transformers.\n",
      "\n",
      "\n",
      "Question: Which paper discusses the integration of Large Language Models with Monte Carlo Tree Search?\n",
      "Answer: The paper titled \"Accessing GPT-4 level Mathematical Olympiad Solutions via Monte Carlo Tree Self-refine with LLaMa-38B\" by trotsky1997/mathblackbox discusses the integration of Large Language Models with Monte Carlo Tree Search.\n",
      "\n",
      "\n",
      "Question: What advancements does the 'VideoLLaMA 2' paper propose?\n",
      "Answer: The 'VideoLLaMA 2' paper proposes advancements in spatial-temporal modeling and audio understanding in video and audio-oriented tasks.\n",
      "\n",
      "\n",
      "Question: Which paper was published most recently?\n",
      "Answer: The paper titled \"MeshAnything: Artist-Created Mesh Generation with Autoregressive Transformers\" was published most recently on 14 Jun 2024.\n",
      "\n",
      "\n",
      "Question: Identify a paper that deals with language modeling and its scalability.\n",
      "Answer: \"Scalable MatMul -free Language Modeling\" is a paper that deals with language modeling and its scalability.\n",
      "\n",
      "\n",
      "Question: Which paper aims at improving accuracy in Google-Proof Question Answering?\n",
      "Answer: The paper titled \"TextGrad: Automatic 'Differentiation' via Text\" aims at improving accuracy in Google-Proof Question Answering.\n",
      "\n",
      "\n",
      "Question: List the categories covered by the paper titled 'TextGrad: Automatic \"Differentiation\" via Text'.\n",
      "Answer: The categories covered by the paper titled 'TextGrad: Automatic \"Differentiation\" via Text' are Question Answering and Specificity.\n",
      "\n",
      "\n",
      "Question: Which paper received the highest number of stars per hour?\n",
      "Answer: The paper \"Scalable MatMul-free Language Modeling\" received the highest number of stars per hour with 2,140 stars / hour.\n",
      "\n",
      "\n",
      "Question: Who is Emma Stone?\n",
      "No information\n",
      "\n",
      "\n"
     ]
    }
   ],
   "source": [
    "questions = [\n",
    "    \"What is the focus of the 'MeshAnything' project?\",\n",
    "    \"Which paper discusses the integration of Large Language Models with Monte Carlo Tree Search?\",\n",
    "    \"What advancements does the 'VideoLLaMA 2' paper propose?\",\n",
    "    \"Which paper was published most recently?\",\n",
    "    \"Identify a paper that deals with language modeling and its scalability.\",\n",
    "    \"Which paper aims at improving accuracy in Google-Proof Question Answering?\",\n",
    "    \"List the categories covered by the paper titled 'TextGrad: Automatic \\\"Differentiation\\\" via Text'.\",\n",
    "    \"Which paper received the highest number of stars per hour?\",\n",
    "    \"Who is Emma Stone?\",  # Added question\n",
    "]\n",
    "\n",
    "for question in questions:\n",
    "    response = chain.invoke({\"input\": question})\n",
    "    if response[\"answer\"] and \"Emma Stone\" not in response[\"answer\"]:\n",
    "        print(f\"Question: {question}\\nAnswer: {response['answer']}\\n\\n\")\n",
    "    else:\n",
    "        print(f\"Question: {question}\\nNo information\\n\\n\")"
   ]
  },
  {
   "cell_type": "code",
   "execution_count": null,
   "metadata": {},
   "outputs": [],
   "source": []
  }
 ],
 "metadata": {
  "kernelspec": {
   "display_name": "mlp",
   "language": "python",
   "name": "python3"
  },
  "language_info": {
   "codemirror_mode": {
    "name": "ipython",
    "version": 3
   },
   "file_extension": ".py",
   "mimetype": "text/x-python",
   "name": "python",
   "nbconvert_exporter": "python",
   "pygments_lexer": "ipython3",
   "version": "3.9.18"
  }
 },
 "nbformat": 4,
 "nbformat_minor": 2
}
